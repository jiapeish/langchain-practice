{
 "cells": [
  {
   "cell_type": "code",
   "id": "4d29e774",
   "metadata": {
    "ExecuteTime": {
     "end_time": "2025-07-10T10:17:59.382185Z",
     "start_time": "2025-07-10T10:17:59.265446Z"
    }
   },
   "source": [
    "from langchain_community.chat_models import ChatOllama\n",
    "from langchain_ollama import ChatOllama\n",
    "chat = ChatOllama(model=\"qwen3:1.7b\")\n",
    " \n",
    "from langchain.prompts.chat import (\n",
    "    ChatPromptTemplate,\n",
    "    SystemMessagePromptTemplate,\n",
    "    HumanMessagePromptTemplate,\n",
    ")"
   ],
   "outputs": [],
   "execution_count": 2
  },
  {
   "cell_type": "code",
   "id": "e7a05c68",
   "metadata": {
    "ExecuteTime": {
     "end_time": "2025-07-10T10:18:01.617526Z",
     "start_time": "2025-07-10T10:18:01.614567Z"
    }
   },
   "source": [
    "template = \"你是一个翻译助理 ,请将用户输入的内容由{input_language}直接翻译为{output_language}.\"\n",
    "system_message_prompt = SystemMessagePromptTemplate.from_template(template)\n",
    "human_template = \"{text}\"\n",
    "human_message_prompt = HumanMessagePromptTemplate.from_template(human_template)\n",
    "\n",
    "chat_prompt = ChatPromptTemplate.from_messages([system_message_prompt, human_message_prompt])"
   ],
   "outputs": [],
   "execution_count": 3
  },
  {
   "cell_type": "code",
   "id": "c1790605",
   "metadata": {
    "ExecuteTime": {
     "end_time": "2025-07-10T10:19:06.197872Z",
     "start_time": "2025-07-10T10:19:02.437007Z"
    }
   },
   "source": [
    "chat.invoke(chat_prompt.format_prompt(input_language=\"英语\", output_language=\"中文\",\n",
    "                 text=\"Artificial Intelligence (AI) will have a profound impact on human civilization in the coming years. \").to_messages())"
   ],
   "outputs": [
    {
     "data": {
      "text/plain": [
       "AIMessage(content='<think>\\n好的，用户让我翻译这句话：“Artificial Intelligence (AI) will have a profound impact on human civilization in the coming years.” 首先，我需要确认这句话的结构和每个部分的意思。\\n\\n“Artificial Intelligence (AI)” 是一个专有名词，通常直接翻译为“人工智能”或者“人工智能技术”。不过在这里，用户可能希望保持原样，所以直接翻译为“人工智能”比较合适。\\n\\n接下来是“will have a profound impact”，这部分需要准确传达“深远的影响”。中文里常用“深远的影响”或者“重大影响”，但“profound”更强调深度和重要性，所以“深远的影响”更贴切。\\n\\n然后是“on human civilization”，这里“human civilization”指的是人类文明，翻译成“人类文明”没问题。不过有时候“civilization”也可以翻译为“文明”，但“人类文明”更具体。\\n\\n最后是“in the coming years”，翻译成“在未来几年”或者“在接下来的几年里”。用户可能希望保持时间的准确性，所以“在未来几年”比较合适。\\n\\n组合起来就是：“人工智能（AI）将在未来几年对人类文明产生深远的影响。”检查一下有没有遗漏或错误，比如“profound”是否准确，有没有更好的表达方式。比如“深远的影响”是否足够，或者是否需要更正式的词汇。不过用户的要求是直接翻译，所以保持原意即可。\\n\\n另外，用户可能希望翻译简洁，不需要额外解释，所以保持句子结构不变。确认没有语法错误，比如主谓一致，这里“will”和“impact”都正确。整体翻译准确，符合中文表达习惯。\\n</think>\\n\\n人工智能（AI）将在未来几年对人类文明产生深远影响。', additional_kwargs={}, response_metadata={'model': 'qwen3:1.7b', 'created_at': '2025-07-10T10:19:06.192587Z', 'done': True, 'done_reason': 'stop', 'total_duration': 3744639208, 'load_duration': 32378166, 'prompt_eval_count': 50, 'prompt_eval_duration': 133969125, 'eval_count': 353, 'eval_duration': 3577316833, 'model_name': 'qwen3:1.7b'}, id='run--688b09b9-d58e-492e-82f0-9ca7b2367d61-0', usage_metadata={'input_tokens': 50, 'output_tokens': 353, 'total_tokens': 403})"
      ]
     },
     "execution_count": 4,
     "metadata": {},
     "output_type": "execute_result"
    }
   ],
   "execution_count": 4
  },
  {
   "cell_type": "code",
   "execution_count": null,
   "id": "99f9c38a",
   "metadata": {},
   "outputs": [],
   "source": []
  }
 ],
 "metadata": {
  "kernelspec": {
   "display_name": "book",
   "language": "python",
   "name": "book"
  },
  "language_info": {
   "codemirror_mode": {
    "name": "ipython",
    "version": 3
   },
   "file_extension": ".py",
   "mimetype": "text/x-python",
   "name": "python",
   "nbconvert_exporter": "python",
   "pygments_lexer": "ipython3",
   "version": "3.11.5"
  }
 },
 "nbformat": 4,
 "nbformat_minor": 5
}
