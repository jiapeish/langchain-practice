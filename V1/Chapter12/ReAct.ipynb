{
 "cells": [
  {
   "cell_type": "code",
   "execution_count": 1,
   "id": "1ae60ac6",
   "metadata": {},
   "outputs": [],
   "source": [
    "from langchain_community.chat_models import ChatOllama\n",
    "llm = ChatOllama(model=\"qwen3:1.7b\")"
   ]
  },
  {
   "cell_type": "code",
   "execution_count": 2,
   "id": "b65b904d",
   "metadata": {},
   "outputs": [],
   "source": [
    "from langchain import hub\n",
    "from langchain.agents import AgentExecutor, create_react_agent"
   ]
  },
  {
   "cell_type": "code",
   "execution_count": 3,
   "id": "a9563e0d",
   "metadata": {},
   "outputs": [],
   "source": [
    "from langchain.agents import tool\n",
    "\n",
    "@tool\n",
    "def get_word_length(word: str) -> int:\n",
    "    \"\"\"返回单词的长度。\"\"\"\n",
    "    return len(word)\n",
    "\n",
    "tools = [get_word_length]"
   ]
  },
  {
   "cell_type": "code",
   "execution_count": 4,
   "id": "53a39f90",
   "metadata": {},
   "outputs": [],
   "source": [
    "from langchain import hub\n",
    "# Get the prompt to use - you can modify this!\n",
    "prompt = hub.pull(\"hwchase17/react\")"
   ]
  },
  {
   "cell_type": "code",
   "execution_count": 5,
   "id": "59b3145e",
   "metadata": {},
   "outputs": [],
   "source": [
    "# Choose the LLM to use\n",
    "\n",
    "# Construct the ReAct agent\n",
    "agent = create_react_agent(llm, tools, prompt)"
   ]
  },
  {
   "cell_type": "code",
   "execution_count": 6,
   "id": "8b114db6",
   "metadata": {},
   "outputs": [],
   "source": [
    "# Create an agent executor by passing in the agent and tools\n",
    "agent_executor = AgentExecutor(agent=agent, tools=tools, verbose=True)"
   ]
  },
  {
   "cell_type": "code",
   "execution_count": 7,
   "id": "9fc445e7",
   "metadata": {},
   "outputs": [
    {
     "name": "stdout",
     "output_type": "stream",
     "text": [
      "\n",
      "\n",
      "\u001B[1m> Entering new AgentExecutor chain...\u001B[0m\n",
      "\u001B[32;1m\u001B[1;3m 我需要查询关于 \"LangChain\" 的信息。我可以使用网络搜索引擎来完成这个任务。\n",
      "Action: the action to take, should be one of [web_search] or [google_crawler] (depending on the specific website or search engine being used))\n",
      "Action Input: {\"query\": \"LangChain\u001B[0mthe action to take, should be one of [web_search] or [google_crawler] (depending on the specific website or search engine being used)) is not a valid tool, try one of [get_word_length]."
     ]
    },
    {
     "ename": "ValueError",
     "evalue": "An output parsing error occurred. In order to pass this error back to the agent and have it try again, pass `handle_parsing_errors=True` to the AgentExecutor. This is the error: Could not parse LLM output: `我明白了问题的来龙去。根据提供的信息，输入的 \"query\" 可以是 \"LangChain\" 这个词，但这个查询并没有提供有关 \"LangChain\" 的任何有用的信息。因此，使用网络搜索引擎或 Google Crawler 来完成该任务将更为有效和准确。`",
     "output_type": "error",
     "traceback": [
      "\u001B[1;31m---------------------------------------------------------------------------\u001B[0m",
      "\u001B[1;31mOutputParserException\u001B[0m                     Traceback (most recent call last)",
      "File \u001B[1;32mG:\\Program Files\\anaconda3\\Lib\\site-packages\\langchain\\agents\\agent.py:1166\u001B[0m, in \u001B[0;36mAgentExecutor._iter_next_step\u001B[1;34m(self, name_to_tool_map, color_mapping, inputs, intermediate_steps, run_manager)\u001B[0m\n\u001B[0;32m   1165\u001B[0m     \u001B[38;5;66;03m# Call the LLM to see what to do.\u001B[39;00m\n\u001B[1;32m-> 1166\u001B[0m     output \u001B[38;5;241m=\u001B[39m \u001B[38;5;28mself\u001B[39m\u001B[38;5;241m.\u001B[39magent\u001B[38;5;241m.\u001B[39mplan(\n\u001B[0;32m   1167\u001B[0m         intermediate_steps,\n\u001B[0;32m   1168\u001B[0m         callbacks\u001B[38;5;241m=\u001B[39mrun_manager\u001B[38;5;241m.\u001B[39mget_child() \u001B[38;5;28;01mif\u001B[39;00m run_manager \u001B[38;5;28;01melse\u001B[39;00m \u001B[38;5;28;01mNone\u001B[39;00m,\n\u001B[0;32m   1169\u001B[0m         \u001B[38;5;241m*\u001B[39m\u001B[38;5;241m*\u001B[39minputs,\n\u001B[0;32m   1170\u001B[0m     )\n\u001B[0;32m   1171\u001B[0m \u001B[38;5;28;01mexcept\u001B[39;00m OutputParserException \u001B[38;5;28;01mas\u001B[39;00m e:\n",
      "File \u001B[1;32mG:\\Program Files\\anaconda3\\Lib\\site-packages\\langchain\\agents\\agent.py:397\u001B[0m, in \u001B[0;36mRunnableAgent.plan\u001B[1;34m(self, intermediate_steps, callbacks, **kwargs)\u001B[0m\n\u001B[0;32m    390\u001B[0m \u001B[38;5;28;01mif\u001B[39;00m \u001B[38;5;28mself\u001B[39m\u001B[38;5;241m.\u001B[39mstream_runnable:\n\u001B[0;32m    391\u001B[0m     \u001B[38;5;66;03m# Use streaming to make sure that the underlying LLM is invoked in a\u001B[39;00m\n\u001B[0;32m    392\u001B[0m     \u001B[38;5;66;03m# streaming\u001B[39;00m\n\u001B[1;32m   (...)\u001B[0m\n\u001B[0;32m    395\u001B[0m     \u001B[38;5;66;03m# Because the response from the plan is not a generator, we need to\u001B[39;00m\n\u001B[0;32m    396\u001B[0m     \u001B[38;5;66;03m# accumulate the output into final output and return that.\u001B[39;00m\n\u001B[1;32m--> 397\u001B[0m     \u001B[38;5;28;01mfor\u001B[39;00m chunk \u001B[38;5;129;01min\u001B[39;00m \u001B[38;5;28mself\u001B[39m\u001B[38;5;241m.\u001B[39mrunnable\u001B[38;5;241m.\u001B[39mstream(inputs, config\u001B[38;5;241m=\u001B[39m{\u001B[38;5;124m\"\u001B[39m\u001B[38;5;124mcallbacks\u001B[39m\u001B[38;5;124m\"\u001B[39m: callbacks}):\n\u001B[0;32m    398\u001B[0m         \u001B[38;5;28;01mif\u001B[39;00m final_output \u001B[38;5;129;01mis\u001B[39;00m \u001B[38;5;28;01mNone\u001B[39;00m:\n",
      "File \u001B[1;32mG:\\Program Files\\anaconda3\\Lib\\site-packages\\langchain_core\\runnables\\base.py:2875\u001B[0m, in \u001B[0;36mRunnableSequence.stream\u001B[1;34m(self, input, config, **kwargs)\u001B[0m\n\u001B[0;32m   2869\u001B[0m \u001B[38;5;28;01mdef\u001B[39;00m \u001B[38;5;21mstream\u001B[39m(\n\u001B[0;32m   2870\u001B[0m     \u001B[38;5;28mself\u001B[39m,\n\u001B[0;32m   2871\u001B[0m     \u001B[38;5;28minput\u001B[39m: Input,\n\u001B[0;32m   2872\u001B[0m     config: Optional[RunnableConfig] \u001B[38;5;241m=\u001B[39m \u001B[38;5;28;01mNone\u001B[39;00m,\n\u001B[0;32m   2873\u001B[0m     \u001B[38;5;241m*\u001B[39m\u001B[38;5;241m*\u001B[39mkwargs: Optional[Any],\n\u001B[0;32m   2874\u001B[0m ) \u001B[38;5;241m-\u001B[39m\u001B[38;5;241m>\u001B[39m Iterator[Output]:\n\u001B[1;32m-> 2875\u001B[0m     \u001B[38;5;28;01myield from\u001B[39;00m \u001B[38;5;28mself\u001B[39m\u001B[38;5;241m.\u001B[39mtransform(\u001B[38;5;28miter\u001B[39m([\u001B[38;5;28minput\u001B[39m]), config, \u001B[38;5;241m*\u001B[39m\u001B[38;5;241m*\u001B[39mkwargs)\n",
      "File \u001B[1;32mG:\\Program Files\\anaconda3\\Lib\\site-packages\\langchain_core\\runnables\\base.py:2862\u001B[0m, in \u001B[0;36mRunnableSequence.transform\u001B[1;34m(self, input, config, **kwargs)\u001B[0m\n\u001B[0;32m   2856\u001B[0m \u001B[38;5;28;01mdef\u001B[39;00m \u001B[38;5;21mtransform\u001B[39m(\n\u001B[0;32m   2857\u001B[0m     \u001B[38;5;28mself\u001B[39m,\n\u001B[0;32m   2858\u001B[0m     \u001B[38;5;28minput\u001B[39m: Iterator[Input],\n\u001B[0;32m   2859\u001B[0m     config: Optional[RunnableConfig] \u001B[38;5;241m=\u001B[39m \u001B[38;5;28;01mNone\u001B[39;00m,\n\u001B[0;32m   2860\u001B[0m     \u001B[38;5;241m*\u001B[39m\u001B[38;5;241m*\u001B[39mkwargs: Optional[Any],\n\u001B[0;32m   2861\u001B[0m ) \u001B[38;5;241m-\u001B[39m\u001B[38;5;241m>\u001B[39m Iterator[Output]:\n\u001B[1;32m-> 2862\u001B[0m     \u001B[38;5;28;01myield from\u001B[39;00m \u001B[38;5;28mself\u001B[39m\u001B[38;5;241m.\u001B[39m_transform_stream_with_config(\n\u001B[0;32m   2863\u001B[0m         \u001B[38;5;28minput\u001B[39m,\n\u001B[0;32m   2864\u001B[0m         \u001B[38;5;28mself\u001B[39m\u001B[38;5;241m.\u001B[39m_transform,\n\u001B[0;32m   2865\u001B[0m         patch_config(config, run_name\u001B[38;5;241m=\u001B[39m(config \u001B[38;5;129;01mor\u001B[39;00m {})\u001B[38;5;241m.\u001B[39mget(\u001B[38;5;124m\"\u001B[39m\u001B[38;5;124mrun_name\u001B[39m\u001B[38;5;124m\"\u001B[39m) \u001B[38;5;129;01mor\u001B[39;00m \u001B[38;5;28mself\u001B[39m\u001B[38;5;241m.\u001B[39mname),\n\u001B[0;32m   2866\u001B[0m         \u001B[38;5;241m*\u001B[39m\u001B[38;5;241m*\u001B[39mkwargs,\n\u001B[0;32m   2867\u001B[0m     )\n",
      "File \u001B[1;32mG:\\Program Files\\anaconda3\\Lib\\site-packages\\langchain_core\\runnables\\base.py:1880\u001B[0m, in \u001B[0;36mRunnable._transform_stream_with_config\u001B[1;34m(self, input, transformer, config, run_type, **kwargs)\u001B[0m\n\u001B[0;32m   1879\u001B[0m \u001B[38;5;28;01mwhile\u001B[39;00m \u001B[38;5;28;01mTrue\u001B[39;00m:\n\u001B[1;32m-> 1880\u001B[0m     chunk: Output \u001B[38;5;241m=\u001B[39m context\u001B[38;5;241m.\u001B[39mrun(\u001B[38;5;28mnext\u001B[39m, iterator)  \u001B[38;5;66;03m# type: ignore\u001B[39;00m\n\u001B[0;32m   1881\u001B[0m     \u001B[38;5;28;01myield\u001B[39;00m chunk\n",
      "File \u001B[1;32mG:\\Program Files\\anaconda3\\Lib\\site-packages\\langchain_core\\runnables\\base.py:2826\u001B[0m, in \u001B[0;36mRunnableSequence._transform\u001B[1;34m(self, input, run_manager, config)\u001B[0m\n\u001B[0;32m   2818\u001B[0m     final_pipeline \u001B[38;5;241m=\u001B[39m step\u001B[38;5;241m.\u001B[39mtransform(\n\u001B[0;32m   2819\u001B[0m         final_pipeline,\n\u001B[0;32m   2820\u001B[0m         patch_config(\n\u001B[1;32m   (...)\u001B[0m\n\u001B[0;32m   2823\u001B[0m         ),\n\u001B[0;32m   2824\u001B[0m     )\n\u001B[1;32m-> 2826\u001B[0m \u001B[38;5;28;01mfor\u001B[39;00m output \u001B[38;5;129;01min\u001B[39;00m final_pipeline:\n\u001B[0;32m   2827\u001B[0m     \u001B[38;5;28;01myield\u001B[39;00m output\n",
      "File \u001B[1;32mG:\\Program Files\\anaconda3\\Lib\\site-packages\\langchain_core\\runnables\\base.py:1300\u001B[0m, in \u001B[0;36mRunnable.transform\u001B[1;34m(self, input, config, **kwargs)\u001B[0m\n\u001B[0;32m   1299\u001B[0m \u001B[38;5;28;01mif\u001B[39;00m got_first_val:\n\u001B[1;32m-> 1300\u001B[0m     \u001B[38;5;28;01myield from\u001B[39;00m \u001B[38;5;28mself\u001B[39m\u001B[38;5;241m.\u001B[39mstream(final, config, \u001B[38;5;241m*\u001B[39m\u001B[38;5;241m*\u001B[39mkwargs)\n",
      "File \u001B[1;32mG:\\Program Files\\anaconda3\\Lib\\site-packages\\langchain_core\\runnables\\base.py:808\u001B[0m, in \u001B[0;36mRunnable.stream\u001B[1;34m(self, input, config, **kwargs)\u001B[0m\n\u001B[0;32m    804\u001B[0m \u001B[38;5;250m\u001B[39m\u001B[38;5;124;03m\"\"\"\u001B[39;00m\n\u001B[0;32m    805\u001B[0m \u001B[38;5;124;03mDefault implementation of stream, which calls invoke.\u001B[39;00m\n\u001B[0;32m    806\u001B[0m \u001B[38;5;124;03mSubclasses should override this method if they support streaming output.\u001B[39;00m\n\u001B[0;32m    807\u001B[0m \u001B[38;5;124;03m\"\"\"\u001B[39;00m\n\u001B[1;32m--> 808\u001B[0m \u001B[38;5;28;01myield\u001B[39;00m \u001B[38;5;28mself\u001B[39m\u001B[38;5;241m.\u001B[39minvoke(\u001B[38;5;28minput\u001B[39m, config, \u001B[38;5;241m*\u001B[39m\u001B[38;5;241m*\u001B[39mkwargs)\n",
      "File \u001B[1;32mG:\\Program Files\\anaconda3\\Lib\\site-packages\\langchain_core\\output_parsers\\base.py:169\u001B[0m, in \u001B[0;36mBaseOutputParser.invoke\u001B[1;34m(self, input, config)\u001B[0m\n\u001B[0;32m    168\u001B[0m \u001B[38;5;28;01mif\u001B[39;00m \u001B[38;5;28misinstance\u001B[39m(\u001B[38;5;28minput\u001B[39m, BaseMessage):\n\u001B[1;32m--> 169\u001B[0m     \u001B[38;5;28;01mreturn\u001B[39;00m \u001B[38;5;28mself\u001B[39m\u001B[38;5;241m.\u001B[39m_call_with_config(\n\u001B[0;32m    170\u001B[0m         \u001B[38;5;28;01mlambda\u001B[39;00m inner_input: \u001B[38;5;28mself\u001B[39m\u001B[38;5;241m.\u001B[39mparse_result(\n\u001B[0;32m    171\u001B[0m             [ChatGeneration(message\u001B[38;5;241m=\u001B[39minner_input)]\n\u001B[0;32m    172\u001B[0m         ),\n\u001B[0;32m    173\u001B[0m         \u001B[38;5;28minput\u001B[39m,\n\u001B[0;32m    174\u001B[0m         config,\n\u001B[0;32m    175\u001B[0m         run_type\u001B[38;5;241m=\u001B[39m\u001B[38;5;124m\"\u001B[39m\u001B[38;5;124mparser\u001B[39m\u001B[38;5;124m\"\u001B[39m,\n\u001B[0;32m    176\u001B[0m     )\n\u001B[0;32m    177\u001B[0m \u001B[38;5;28;01melse\u001B[39;00m:\n",
      "File \u001B[1;32mG:\\Program Files\\anaconda3\\Lib\\site-packages\\langchain_core\\runnables\\base.py:1625\u001B[0m, in \u001B[0;36mRunnable._call_with_config\u001B[1;34m(self, func, input, config, run_type, **kwargs)\u001B[0m\n\u001B[0;32m   1622\u001B[0m     context\u001B[38;5;241m.\u001B[39mrun(var_child_runnable_config\u001B[38;5;241m.\u001B[39mset, child_config)\n\u001B[0;32m   1623\u001B[0m     output \u001B[38;5;241m=\u001B[39m cast(\n\u001B[0;32m   1624\u001B[0m         Output,\n\u001B[1;32m-> 1625\u001B[0m         context\u001B[38;5;241m.\u001B[39mrun(\n\u001B[0;32m   1626\u001B[0m             call_func_with_variable_args,  \u001B[38;5;66;03m# type: ignore[arg-type]\u001B[39;00m\n\u001B[0;32m   1627\u001B[0m             func,  \u001B[38;5;66;03m# type: ignore[arg-type]\u001B[39;00m\n\u001B[0;32m   1628\u001B[0m             \u001B[38;5;28minput\u001B[39m,  \u001B[38;5;66;03m# type: ignore[arg-type]\u001B[39;00m\n\u001B[0;32m   1629\u001B[0m             config,\n\u001B[0;32m   1630\u001B[0m             run_manager,\n\u001B[0;32m   1631\u001B[0m             \u001B[38;5;241m*\u001B[39m\u001B[38;5;241m*\u001B[39mkwargs,\n\u001B[0;32m   1632\u001B[0m         ),\n\u001B[0;32m   1633\u001B[0m     )\n\u001B[0;32m   1634\u001B[0m \u001B[38;5;28;01mexcept\u001B[39;00m \u001B[38;5;167;01mBaseException\u001B[39;00m \u001B[38;5;28;01mas\u001B[39;00m e:\n",
      "File \u001B[1;32mG:\\Program Files\\anaconda3\\Lib\\site-packages\\langchain_core\\runnables\\config.py:347\u001B[0m, in \u001B[0;36mcall_func_with_variable_args\u001B[1;34m(func, input, config, run_manager, **kwargs)\u001B[0m\n\u001B[0;32m    346\u001B[0m     kwargs[\u001B[38;5;124m\"\u001B[39m\u001B[38;5;124mrun_manager\u001B[39m\u001B[38;5;124m\"\u001B[39m] \u001B[38;5;241m=\u001B[39m run_manager\n\u001B[1;32m--> 347\u001B[0m \u001B[38;5;28;01mreturn\u001B[39;00m func(\u001B[38;5;28minput\u001B[39m, \u001B[38;5;241m*\u001B[39m\u001B[38;5;241m*\u001B[39mkwargs)\n",
      "File \u001B[1;32mG:\\Program Files\\anaconda3\\Lib\\site-packages\\langchain_core\\output_parsers\\base.py:170\u001B[0m, in \u001B[0;36mBaseOutputParser.invoke.<locals>.<lambda>\u001B[1;34m(inner_input)\u001B[0m\n\u001B[0;32m    168\u001B[0m \u001B[38;5;28;01mif\u001B[39;00m \u001B[38;5;28misinstance\u001B[39m(\u001B[38;5;28minput\u001B[39m, BaseMessage):\n\u001B[0;32m    169\u001B[0m     \u001B[38;5;28;01mreturn\u001B[39;00m \u001B[38;5;28mself\u001B[39m\u001B[38;5;241m.\u001B[39m_call_with_config(\n\u001B[1;32m--> 170\u001B[0m         \u001B[38;5;28;01mlambda\u001B[39;00m inner_input: \u001B[38;5;28mself\u001B[39m\u001B[38;5;241m.\u001B[39mparse_result(\n\u001B[0;32m    171\u001B[0m             [ChatGeneration(message\u001B[38;5;241m=\u001B[39minner_input)]\n\u001B[0;32m    172\u001B[0m         ),\n\u001B[0;32m    173\u001B[0m         \u001B[38;5;28minput\u001B[39m,\n\u001B[0;32m    174\u001B[0m         config,\n\u001B[0;32m    175\u001B[0m         run_type\u001B[38;5;241m=\u001B[39m\u001B[38;5;124m\"\u001B[39m\u001B[38;5;124mparser\u001B[39m\u001B[38;5;124m\"\u001B[39m,\n\u001B[0;32m    176\u001B[0m     )\n\u001B[0;32m    177\u001B[0m \u001B[38;5;28;01melse\u001B[39;00m:\n",
      "File \u001B[1;32mG:\\Program Files\\anaconda3\\Lib\\site-packages\\langchain_core\\output_parsers\\base.py:221\u001B[0m, in \u001B[0;36mBaseOutputParser.parse_result\u001B[1;34m(self, result, partial)\u001B[0m\n\u001B[0;32m    209\u001B[0m \u001B[38;5;250m\u001B[39m\u001B[38;5;124;03m\"\"\"Parse a list of candidate model Generations into a specific format.\u001B[39;00m\n\u001B[0;32m    210\u001B[0m \n\u001B[0;32m    211\u001B[0m \u001B[38;5;124;03mThe return value is parsed from only the first Generation in the result, which\u001B[39;00m\n\u001B[1;32m   (...)\u001B[0m\n\u001B[0;32m    219\u001B[0m \u001B[38;5;124;03m    Structured output.\u001B[39;00m\n\u001B[0;32m    220\u001B[0m \u001B[38;5;124;03m\"\"\"\u001B[39;00m\n\u001B[1;32m--> 221\u001B[0m \u001B[38;5;28;01mreturn\u001B[39;00m \u001B[38;5;28mself\u001B[39m\u001B[38;5;241m.\u001B[39mparse(result[\u001B[38;5;241m0\u001B[39m]\u001B[38;5;241m.\u001B[39mtext)\n",
      "File \u001B[1;32mG:\\Program Files\\anaconda3\\Lib\\site-packages\\langchain\\agents\\output_parsers\\react_single_input.py:75\u001B[0m, in \u001B[0;36mReActSingleInputOutputParser.parse\u001B[1;34m(self, text)\u001B[0m\n\u001B[0;32m     74\u001B[0m \u001B[38;5;28;01mif\u001B[39;00m \u001B[38;5;129;01mnot\u001B[39;00m re\u001B[38;5;241m.\u001B[39msearch(\u001B[38;5;124mr\u001B[39m\u001B[38;5;124m\"\u001B[39m\u001B[38;5;124mAction\u001B[39m\u001B[38;5;124m\\\u001B[39m\u001B[38;5;124ms*\u001B[39m\u001B[38;5;124m\\\u001B[39m\u001B[38;5;124md*\u001B[39m\u001B[38;5;124m\\\u001B[39m\u001B[38;5;124ms*:[\u001B[39m\u001B[38;5;124m\\\u001B[39m\u001B[38;5;124ms]*(.*?)\u001B[39m\u001B[38;5;124m\"\u001B[39m, text, re\u001B[38;5;241m.\u001B[39mDOTALL):\n\u001B[1;32m---> 75\u001B[0m     \u001B[38;5;28;01mraise\u001B[39;00m OutputParserException(\n\u001B[0;32m     76\u001B[0m         \u001B[38;5;124mf\u001B[39m\u001B[38;5;124m\"\u001B[39m\u001B[38;5;124mCould not parse LLM output: `\u001B[39m\u001B[38;5;132;01m{\u001B[39;00mtext\u001B[38;5;132;01m}\u001B[39;00m\u001B[38;5;124m`\u001B[39m\u001B[38;5;124m\"\u001B[39m,\n\u001B[0;32m     77\u001B[0m         observation\u001B[38;5;241m=\u001B[39mMISSING_ACTION_AFTER_THOUGHT_ERROR_MESSAGE,\n\u001B[0;32m     78\u001B[0m         llm_output\u001B[38;5;241m=\u001B[39mtext,\n\u001B[0;32m     79\u001B[0m         send_to_llm\u001B[38;5;241m=\u001B[39m\u001B[38;5;28;01mTrue\u001B[39;00m,\n\u001B[0;32m     80\u001B[0m     )\n\u001B[0;32m     81\u001B[0m \u001B[38;5;28;01melif\u001B[39;00m \u001B[38;5;129;01mnot\u001B[39;00m re\u001B[38;5;241m.\u001B[39msearch(\n\u001B[0;32m     82\u001B[0m     \u001B[38;5;124mr\u001B[39m\u001B[38;5;124m\"\u001B[39m\u001B[38;5;124m[\u001B[39m\u001B[38;5;124m\\\u001B[39m\u001B[38;5;124ms]*Action\u001B[39m\u001B[38;5;124m\\\u001B[39m\u001B[38;5;124ms*\u001B[39m\u001B[38;5;124m\\\u001B[39m\u001B[38;5;124md*\u001B[39m\u001B[38;5;124m\\\u001B[39m\u001B[38;5;124ms*Input\u001B[39m\u001B[38;5;124m\\\u001B[39m\u001B[38;5;124ms*\u001B[39m\u001B[38;5;124m\\\u001B[39m\u001B[38;5;124md*\u001B[39m\u001B[38;5;124m\\\u001B[39m\u001B[38;5;124ms*:[\u001B[39m\u001B[38;5;124m\\\u001B[39m\u001B[38;5;124ms]*(.*)\u001B[39m\u001B[38;5;124m\"\u001B[39m, text, re\u001B[38;5;241m.\u001B[39mDOTALL\n\u001B[0;32m     83\u001B[0m ):\n",
      "\u001B[1;31mOutputParserException\u001B[0m: Could not parse LLM output: `我明白了问题的来龙去。根据提供的信息，输入的 \"query\" 可以是 \"LangChain\" 这个词，但这个查询并没有提供有关 \"LangChain\" 的任何有用的信息。因此，使用网络搜索引擎或 Google Crawler 来完成该任务将更为有效和准确。`",
      "\nDuring handling of the above exception, another exception occurred:\n",
      "\u001B[1;31mValueError\u001B[0m                                Traceback (most recent call last)",
      "Cell \u001B[1;32mIn[7], line 1\u001B[0m\n\u001B[1;32m----> 1\u001B[0m agent_executor\u001B[38;5;241m.\u001B[39minvoke({\u001B[38;5;124m\"\u001B[39m\u001B[38;5;124minput\u001B[39m\u001B[38;5;124m\"\u001B[39m: \u001B[38;5;124m\"\u001B[39m\u001B[38;5;124mwhat is LangChain?\u001B[39m\u001B[38;5;124m\"\u001B[39m})\n",
      "File \u001B[1;32mG:\\Program Files\\anaconda3\\Lib\\site-packages\\langchain\\chains\\base.py:163\u001B[0m, in \u001B[0;36mChain.invoke\u001B[1;34m(self, input, config, **kwargs)\u001B[0m\n\u001B[0;32m    161\u001B[0m \u001B[38;5;28;01mexcept\u001B[39;00m \u001B[38;5;167;01mBaseException\u001B[39;00m \u001B[38;5;28;01mas\u001B[39;00m e:\n\u001B[0;32m    162\u001B[0m     run_manager\u001B[38;5;241m.\u001B[39mon_chain_error(e)\n\u001B[1;32m--> 163\u001B[0m     \u001B[38;5;28;01mraise\u001B[39;00m e\n\u001B[0;32m    164\u001B[0m run_manager\u001B[38;5;241m.\u001B[39mon_chain_end(outputs)\n\u001B[0;32m    166\u001B[0m \u001B[38;5;28;01mif\u001B[39;00m include_run_info:\n",
      "File \u001B[1;32mG:\\Program Files\\anaconda3\\Lib\\site-packages\\langchain\\chains\\base.py:153\u001B[0m, in \u001B[0;36mChain.invoke\u001B[1;34m(self, input, config, **kwargs)\u001B[0m\n\u001B[0;32m    150\u001B[0m \u001B[38;5;28;01mtry\u001B[39;00m:\n\u001B[0;32m    151\u001B[0m     \u001B[38;5;28mself\u001B[39m\u001B[38;5;241m.\u001B[39m_validate_inputs(inputs)\n\u001B[0;32m    152\u001B[0m     outputs \u001B[38;5;241m=\u001B[39m (\n\u001B[1;32m--> 153\u001B[0m         \u001B[38;5;28mself\u001B[39m\u001B[38;5;241m.\u001B[39m_call(inputs, run_manager\u001B[38;5;241m=\u001B[39mrun_manager)\n\u001B[0;32m    154\u001B[0m         \u001B[38;5;28;01mif\u001B[39;00m new_arg_supported\n\u001B[0;32m    155\u001B[0m         \u001B[38;5;28;01melse\u001B[39;00m \u001B[38;5;28mself\u001B[39m\u001B[38;5;241m.\u001B[39m_call(inputs)\n\u001B[0;32m    156\u001B[0m     )\n\u001B[0;32m    158\u001B[0m     final_outputs: Dict[\u001B[38;5;28mstr\u001B[39m, Any] \u001B[38;5;241m=\u001B[39m \u001B[38;5;28mself\u001B[39m\u001B[38;5;241m.\u001B[39mprep_outputs(\n\u001B[0;32m    159\u001B[0m         inputs, outputs, return_only_outputs\n\u001B[0;32m    160\u001B[0m     )\n\u001B[0;32m    161\u001B[0m \u001B[38;5;28;01mexcept\u001B[39;00m \u001B[38;5;167;01mBaseException\u001B[39;00m \u001B[38;5;28;01mas\u001B[39;00m e:\n",
      "File \u001B[1;32mG:\\Program Files\\anaconda3\\Lib\\site-packages\\langchain\\agents\\agent.py:1432\u001B[0m, in \u001B[0;36mAgentExecutor._call\u001B[1;34m(self, inputs, run_manager)\u001B[0m\n\u001B[0;32m   1430\u001B[0m \u001B[38;5;66;03m# We now enter the agent loop (until it returns something).\u001B[39;00m\n\u001B[0;32m   1431\u001B[0m \u001B[38;5;28;01mwhile\u001B[39;00m \u001B[38;5;28mself\u001B[39m\u001B[38;5;241m.\u001B[39m_should_continue(iterations, time_elapsed):\n\u001B[1;32m-> 1432\u001B[0m     next_step_output \u001B[38;5;241m=\u001B[39m \u001B[38;5;28mself\u001B[39m\u001B[38;5;241m.\u001B[39m_take_next_step(\n\u001B[0;32m   1433\u001B[0m         name_to_tool_map,\n\u001B[0;32m   1434\u001B[0m         color_mapping,\n\u001B[0;32m   1435\u001B[0m         inputs,\n\u001B[0;32m   1436\u001B[0m         intermediate_steps,\n\u001B[0;32m   1437\u001B[0m         run_manager\u001B[38;5;241m=\u001B[39mrun_manager,\n\u001B[0;32m   1438\u001B[0m     )\n\u001B[0;32m   1439\u001B[0m     \u001B[38;5;28;01mif\u001B[39;00m \u001B[38;5;28misinstance\u001B[39m(next_step_output, AgentFinish):\n\u001B[0;32m   1440\u001B[0m         \u001B[38;5;28;01mreturn\u001B[39;00m \u001B[38;5;28mself\u001B[39m\u001B[38;5;241m.\u001B[39m_return(\n\u001B[0;32m   1441\u001B[0m             next_step_output, intermediate_steps, run_manager\u001B[38;5;241m=\u001B[39mrun_manager\n\u001B[0;32m   1442\u001B[0m         )\n",
      "File \u001B[1;32mG:\\Program Files\\anaconda3\\Lib\\site-packages\\langchain\\agents\\agent.py:1138\u001B[0m, in \u001B[0;36mAgentExecutor._take_next_step\u001B[1;34m(self, name_to_tool_map, color_mapping, inputs, intermediate_steps, run_manager)\u001B[0m\n\u001B[0;32m   1129\u001B[0m \u001B[38;5;28;01mdef\u001B[39;00m \u001B[38;5;21m_take_next_step\u001B[39m(\n\u001B[0;32m   1130\u001B[0m     \u001B[38;5;28mself\u001B[39m,\n\u001B[0;32m   1131\u001B[0m     name_to_tool_map: Dict[\u001B[38;5;28mstr\u001B[39m, BaseTool],\n\u001B[1;32m   (...)\u001B[0m\n\u001B[0;32m   1135\u001B[0m     run_manager: Optional[CallbackManagerForChainRun] \u001B[38;5;241m=\u001B[39m \u001B[38;5;28;01mNone\u001B[39;00m,\n\u001B[0;32m   1136\u001B[0m ) \u001B[38;5;241m-\u001B[39m\u001B[38;5;241m>\u001B[39m Union[AgentFinish, List[Tuple[AgentAction, \u001B[38;5;28mstr\u001B[39m]]]:\n\u001B[0;32m   1137\u001B[0m     \u001B[38;5;28;01mreturn\u001B[39;00m \u001B[38;5;28mself\u001B[39m\u001B[38;5;241m.\u001B[39m_consume_next_step(\n\u001B[1;32m-> 1138\u001B[0m         [\n\u001B[0;32m   1139\u001B[0m             a\n\u001B[0;32m   1140\u001B[0m             \u001B[38;5;28;01mfor\u001B[39;00m a \u001B[38;5;129;01min\u001B[39;00m \u001B[38;5;28mself\u001B[39m\u001B[38;5;241m.\u001B[39m_iter_next_step(\n\u001B[0;32m   1141\u001B[0m                 name_to_tool_map,\n\u001B[0;32m   1142\u001B[0m                 color_mapping,\n\u001B[0;32m   1143\u001B[0m                 inputs,\n\u001B[0;32m   1144\u001B[0m                 intermediate_steps,\n\u001B[0;32m   1145\u001B[0m                 run_manager,\n\u001B[0;32m   1146\u001B[0m             )\n\u001B[0;32m   1147\u001B[0m         ]\n\u001B[0;32m   1148\u001B[0m     )\n",
      "File \u001B[1;32mG:\\Program Files\\anaconda3\\Lib\\site-packages\\langchain\\agents\\agent.py:1138\u001B[0m, in \u001B[0;36m<listcomp>\u001B[1;34m(.0)\u001B[0m\n\u001B[0;32m   1129\u001B[0m \u001B[38;5;28;01mdef\u001B[39;00m \u001B[38;5;21m_take_next_step\u001B[39m(\n\u001B[0;32m   1130\u001B[0m     \u001B[38;5;28mself\u001B[39m,\n\u001B[0;32m   1131\u001B[0m     name_to_tool_map: Dict[\u001B[38;5;28mstr\u001B[39m, BaseTool],\n\u001B[1;32m   (...)\u001B[0m\n\u001B[0;32m   1135\u001B[0m     run_manager: Optional[CallbackManagerForChainRun] \u001B[38;5;241m=\u001B[39m \u001B[38;5;28;01mNone\u001B[39;00m,\n\u001B[0;32m   1136\u001B[0m ) \u001B[38;5;241m-\u001B[39m\u001B[38;5;241m>\u001B[39m Union[AgentFinish, List[Tuple[AgentAction, \u001B[38;5;28mstr\u001B[39m]]]:\n\u001B[0;32m   1137\u001B[0m     \u001B[38;5;28;01mreturn\u001B[39;00m \u001B[38;5;28mself\u001B[39m\u001B[38;5;241m.\u001B[39m_consume_next_step(\n\u001B[1;32m-> 1138\u001B[0m         [\n\u001B[0;32m   1139\u001B[0m             a\n\u001B[0;32m   1140\u001B[0m             \u001B[38;5;28;01mfor\u001B[39;00m a \u001B[38;5;129;01min\u001B[39;00m \u001B[38;5;28mself\u001B[39m\u001B[38;5;241m.\u001B[39m_iter_next_step(\n\u001B[0;32m   1141\u001B[0m                 name_to_tool_map,\n\u001B[0;32m   1142\u001B[0m                 color_mapping,\n\u001B[0;32m   1143\u001B[0m                 inputs,\n\u001B[0;32m   1144\u001B[0m                 intermediate_steps,\n\u001B[0;32m   1145\u001B[0m                 run_manager,\n\u001B[0;32m   1146\u001B[0m             )\n\u001B[0;32m   1147\u001B[0m         ]\n\u001B[0;32m   1148\u001B[0m     )\n",
      "File \u001B[1;32mG:\\Program Files\\anaconda3\\Lib\\site-packages\\langchain\\agents\\agent.py:1177\u001B[0m, in \u001B[0;36mAgentExecutor._iter_next_step\u001B[1;34m(self, name_to_tool_map, color_mapping, inputs, intermediate_steps, run_manager)\u001B[0m\n\u001B[0;32m   1175\u001B[0m     raise_error \u001B[38;5;241m=\u001B[39m \u001B[38;5;28;01mFalse\u001B[39;00m\n\u001B[0;32m   1176\u001B[0m \u001B[38;5;28;01mif\u001B[39;00m raise_error:\n\u001B[1;32m-> 1177\u001B[0m     \u001B[38;5;28;01mraise\u001B[39;00m \u001B[38;5;167;01mValueError\u001B[39;00m(\n\u001B[0;32m   1178\u001B[0m         \u001B[38;5;124m\"\u001B[39m\u001B[38;5;124mAn output parsing error occurred. \u001B[39m\u001B[38;5;124m\"\u001B[39m\n\u001B[0;32m   1179\u001B[0m         \u001B[38;5;124m\"\u001B[39m\u001B[38;5;124mIn order to pass this error back to the agent and have it try \u001B[39m\u001B[38;5;124m\"\u001B[39m\n\u001B[0;32m   1180\u001B[0m         \u001B[38;5;124m\"\u001B[39m\u001B[38;5;124magain, pass `handle_parsing_errors=True` to the AgentExecutor. \u001B[39m\u001B[38;5;124m\"\u001B[39m\n\u001B[0;32m   1181\u001B[0m         \u001B[38;5;124mf\u001B[39m\u001B[38;5;124m\"\u001B[39m\u001B[38;5;124mThis is the error: \u001B[39m\u001B[38;5;132;01m{\u001B[39;00m\u001B[38;5;28mstr\u001B[39m(e)\u001B[38;5;132;01m}\u001B[39;00m\u001B[38;5;124m\"\u001B[39m\n\u001B[0;32m   1182\u001B[0m     )\n\u001B[0;32m   1183\u001B[0m text \u001B[38;5;241m=\u001B[39m \u001B[38;5;28mstr\u001B[39m(e)\n\u001B[0;32m   1184\u001B[0m \u001B[38;5;28;01mif\u001B[39;00m \u001B[38;5;28misinstance\u001B[39m(\u001B[38;5;28mself\u001B[39m\u001B[38;5;241m.\u001B[39mhandle_parsing_errors, \u001B[38;5;28mbool\u001B[39m):\n",
      "\u001B[1;31mValueError\u001B[0m: An output parsing error occurred. In order to pass this error back to the agent and have it try again, pass `handle_parsing_errors=True` to the AgentExecutor. This is the error: Could not parse LLM output: `我明白了问题的来龙去。根据提供的信息，输入的 \"query\" 可以是 \"LangChain\" 这个词，但这个查询并没有提供有关 \"LangChain\" 的任何有用的信息。因此，使用网络搜索引擎或 Google Crawler 来完成该任务将更为有效和准确。`"
     ]
    }
   ],
   "source": [
    "agent_executor.invoke({\"input\": \"what is LangChain?\"})"
   ]
  },
  {
   "cell_type": "code",
   "execution_count": null,
   "id": "84aceb7f",
   "metadata": {
    "scrolled": true
   },
   "outputs": [],
   "source": [
    "pip install langchainhub"
   ]
  },
  {
   "cell_type": "code",
   "execution_count": null,
   "id": "0b3fd299",
   "metadata": {},
   "outputs": [],
   "source": []
  }
 ],
 "metadata": {
  "kernelspec": {
   "display_name": "book",
   "language": "python",
   "name": "book"
  },
  "language_info": {
   "codemirror_mode": {
    "name": "ipython",
    "version": 3
   },
   "file_extension": ".py",
   "mimetype": "text/x-python",
   "name": "python",
   "nbconvert_exporter": "python",
   "pygments_lexer": "ipython3",
   "version": "3.11.5"
  }
 },
 "nbformat": 4,
 "nbformat_minor": 5
}
