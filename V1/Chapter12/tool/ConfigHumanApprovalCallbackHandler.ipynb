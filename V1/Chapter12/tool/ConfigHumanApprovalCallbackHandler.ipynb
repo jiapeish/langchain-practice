{
 "cells": [
  {
   "cell_type": "code",
   "execution_count": 8,
   "id": "4d5f18ce",
   "metadata": {},
   "outputs": [
    {
     "ename": "ValueError",
     "evalue": "terminal is a dangerous tool. You cannot use it without opting in by setting allow_dangerous_tools to True. Most tools have some inherit risk to them merely because they are allowed to interact with the \"real world\".Please refer to LangChain security guidelines to https://python.langchain.com/docs/security.Some tools have been designated as dangerous because they pose risk that is not intuitively obvious. For example, a tool that allows an agent to make requests to the web, can also be used to make requests to a server that is only accessible from the server hosting the code.Again, all tools carry some risk, and it's your responsibility to understand which tools you're using and the risks associated with them.",
     "output_type": "error",
     "traceback": [
      "\u001B[1;31m---------------------------------------------------------------------------\u001B[0m",
      "\u001B[1;31mValueError\u001B[0m                                Traceback (most recent call last)",
      "Cell \u001B[1;32mIn[8], line 26\u001B[0m\n\u001B[0;32m     22\u001B[0m     \u001B[38;5;28;01mreturn\u001B[39;00m resp\u001B[38;5;241m.\u001B[39mlower() \u001B[38;5;129;01min\u001B[39;00m (\u001B[38;5;124m\"\u001B[39m\u001B[38;5;124myes\u001B[39m\u001B[38;5;124m\"\u001B[39m, \u001B[38;5;124m\"\u001B[39m\u001B[38;5;124my\u001B[39m\u001B[38;5;124m\"\u001B[39m)\n\u001B[0;32m     24\u001B[0m callbacks \u001B[38;5;241m=\u001B[39m [HumanApprovalCallbackHandler(should_check\u001B[38;5;241m=\u001B[39m_should_check, approve\u001B[38;5;241m=\u001B[39m_approve)]\n\u001B[1;32m---> 26\u001B[0m tools \u001B[38;5;241m=\u001B[39m load_tools([\u001B[38;5;124m\"\u001B[39m\u001B[38;5;124mterminal\u001B[39m\u001B[38;5;124m\"\u001B[39m,\u001B[38;5;124m\"\u001B[39m\u001B[38;5;124mwikipedia\u001B[39m\u001B[38;5;124m\"\u001B[39m, \u001B[38;5;124m\"\u001B[39m\u001B[38;5;124mllm-math\u001B[39m\u001B[38;5;124m\"\u001B[39m ], llm\u001B[38;5;241m=\u001B[39mllm)\n\u001B[0;32m     27\u001B[0m agent \u001B[38;5;241m=\u001B[39m initialize_agent(\n\u001B[0;32m     28\u001B[0m     tools,\n\u001B[0;32m     29\u001B[0m     llm,\n\u001B[0;32m     30\u001B[0m     agent\u001B[38;5;241m=\u001B[39mAgentType\u001B[38;5;241m.\u001B[39mZERO_SHOT_REACT_DESCRIPTION,\n\u001B[0;32m     31\u001B[0m )\n\u001B[0;32m     32\u001B[0m agent\u001B[38;5;241m.\u001B[39mrun(\u001B[38;5;124m\"\u001B[39m\u001B[38;5;124mprint \u001B[39m\u001B[38;5;124m'\u001B[39m\u001B[38;5;124mHello World\u001B[39m\u001B[38;5;124m'\u001B[39m\u001B[38;5;124m in the terminal\u001B[39m\u001B[38;5;124m\"\u001B[39m, callbacks\u001B[38;5;241m=\u001B[39mcallbacks)\n",
      "File \u001B[1;32mG:\\Program Files\\anaconda3\\Lib\\site-packages\\langchain\\agents\\load_tools.py:628\u001B[0m, in \u001B[0;36mload_tools\u001B[1;34m(tool_names, llm, callbacks, allow_dangerous_tools, **kwargs)\u001B[0m\n\u001B[0;32m    626\u001B[0m \u001B[38;5;28;01mfor\u001B[39;00m name \u001B[38;5;129;01min\u001B[39;00m tool_names:\n\u001B[0;32m    627\u001B[0m     \u001B[38;5;28;01mif\u001B[39;00m name \u001B[38;5;129;01min\u001B[39;00m DANGEROUS_TOOLS \u001B[38;5;129;01mand\u001B[39;00m \u001B[38;5;129;01mnot\u001B[39;00m allow_dangerous_tools:\n\u001B[1;32m--> 628\u001B[0m         \u001B[38;5;28;01mraise\u001B[39;00m \u001B[38;5;167;01mValueError\u001B[39;00m(\n\u001B[0;32m    629\u001B[0m             \u001B[38;5;124mf\u001B[39m\u001B[38;5;124m\"\u001B[39m\u001B[38;5;132;01m{\u001B[39;00mname\u001B[38;5;132;01m}\u001B[39;00m\u001B[38;5;124m is a dangerous tool. You cannot use it without opting in \u001B[39m\u001B[38;5;124m\"\u001B[39m\n\u001B[0;32m    630\u001B[0m             \u001B[38;5;124m\"\u001B[39m\u001B[38;5;124mby setting allow_dangerous_tools to True. \u001B[39m\u001B[38;5;124m\"\u001B[39m\n\u001B[0;32m    631\u001B[0m             \u001B[38;5;124m\"\u001B[39m\u001B[38;5;124mMost tools have some inherit risk to them merely because they are \u001B[39m\u001B[38;5;124m\"\u001B[39m\n\u001B[0;32m    632\u001B[0m             \u001B[38;5;124m'\u001B[39m\u001B[38;5;124mallowed to interact with the \u001B[39m\u001B[38;5;124m\"\u001B[39m\u001B[38;5;124mreal world\u001B[39m\u001B[38;5;124m\"\u001B[39m\u001B[38;5;124m.\u001B[39m\u001B[38;5;124m'\u001B[39m\n\u001B[0;32m    633\u001B[0m             \u001B[38;5;124m\"\u001B[39m\u001B[38;5;124mPlease refer to LangChain security guidelines \u001B[39m\u001B[38;5;124m\"\u001B[39m\n\u001B[0;32m    634\u001B[0m             \u001B[38;5;124m\"\u001B[39m\u001B[38;5;124mto https://python.langchain.com/docs/security.\u001B[39m\u001B[38;5;124m\"\u001B[39m\n\u001B[0;32m    635\u001B[0m             \u001B[38;5;124m\"\u001B[39m\u001B[38;5;124mSome tools have been designated as dangerous because they pose \u001B[39m\u001B[38;5;124m\"\u001B[39m\n\u001B[0;32m    636\u001B[0m             \u001B[38;5;124m\"\u001B[39m\u001B[38;5;124mrisk that is not intuitively obvious. For example, a tool that \u001B[39m\u001B[38;5;124m\"\u001B[39m\n\u001B[0;32m    637\u001B[0m             \u001B[38;5;124m\"\u001B[39m\u001B[38;5;124mallows an agent to make requests to the web, can also be used \u001B[39m\u001B[38;5;124m\"\u001B[39m\n\u001B[0;32m    638\u001B[0m             \u001B[38;5;124m\"\u001B[39m\u001B[38;5;124mto make requests to a server that is only accessible from the \u001B[39m\u001B[38;5;124m\"\u001B[39m\n\u001B[0;32m    639\u001B[0m             \u001B[38;5;124m\"\u001B[39m\u001B[38;5;124mserver hosting the code.\u001B[39m\u001B[38;5;124m\"\u001B[39m\n\u001B[0;32m    640\u001B[0m             \u001B[38;5;124m\"\u001B[39m\u001B[38;5;124mAgain, all tools carry some risk, and it\u001B[39m\u001B[38;5;124m'\u001B[39m\u001B[38;5;124ms your responsibility to \u001B[39m\u001B[38;5;124m\"\u001B[39m\n\u001B[0;32m    641\u001B[0m             \u001B[38;5;124m\"\u001B[39m\u001B[38;5;124munderstand which tools you\u001B[39m\u001B[38;5;124m'\u001B[39m\u001B[38;5;124mre using and the risks associated with \u001B[39m\u001B[38;5;124m\"\u001B[39m\n\u001B[0;32m    642\u001B[0m             \u001B[38;5;124m\"\u001B[39m\u001B[38;5;124mthem.\u001B[39m\u001B[38;5;124m\"\u001B[39m\n\u001B[0;32m    643\u001B[0m         )\n\u001B[0;32m    645\u001B[0m     \u001B[38;5;28;01mif\u001B[39;00m name \u001B[38;5;129;01min\u001B[39;00m {\u001B[38;5;124m\"\u001B[39m\u001B[38;5;124mrequests\u001B[39m\u001B[38;5;124m\"\u001B[39m}:\n\u001B[0;32m    646\u001B[0m         warnings\u001B[38;5;241m.\u001B[39mwarn(\n\u001B[0;32m    647\u001B[0m             \u001B[38;5;124m\"\u001B[39m\u001B[38;5;124mtool name `requests` is deprecated - \u001B[39m\u001B[38;5;124m\"\u001B[39m\n\u001B[0;32m    648\u001B[0m             \u001B[38;5;124m\"\u001B[39m\u001B[38;5;124mplease use `requests_all` or specify the requests method\u001B[39m\u001B[38;5;124m\"\u001B[39m\n\u001B[0;32m    649\u001B[0m         )\n",
      "\u001B[1;31mValueError\u001B[0m: terminal is a dangerous tool. You cannot use it without opting in by setting allow_dangerous_tools to True. Most tools have some inherit risk to them merely because they are allowed to interact with the \"real world\".Please refer to LangChain security guidelines to https://python.langchain.com/docs/security.Some tools have been designated as dangerous because they pose risk that is not intuitively obvious. For example, a tool that allows an agent to make requests to the web, can also be used to make requests to a server that is only accessible from the server hosting the code.Again, all tools carry some risk, and it's your responsibility to understand which tools you're using and the risks associated with them."
     ]
    }
   ],
   "source": [
    "from langchain.agents import load_tools\n",
    "from langchain.agents import initialize_agent\n",
    "from langchain.agents import AgentType\n",
    "from langchain.callbacks import HumanApprovalCallbackHandler\n",
    "from langchain_community.llms import Ollama\n",
    "llm = Ollama(model=\"qwen3:1.7b\")\n",
    "\n",
    "def _should_check(serialized_obj: dict) -> bool:\n",
    "    # 仅需要ShellTool的批准\n",
    "    return serialized_obj.get(\"name\") == \"terminal\"\n",
    "\n",
    "\n",
    "def _approve(_input: str) -> bool:\n",
    "    if _input == \"echo 'Hello World'\":\n",
    "        return True\n",
    "    msg = (\n",
    "        \"您是否批准以下输入？\"\n",
    "        \"“Y”/“Yes”（不区分大小写）之外的任何内容都将被视为“否”。\"\n",
    "    )\n",
    "    msg += \"\\n\\n\" + _input + \"\\n\"\n",
    "    resp = input(msg)\n",
    "    return resp.lower() in (\"yes\", \"y\")\n",
    "\n",
    "callbacks = [HumanApprovalCallbackHandler(should_check=_should_check, approve=_approve)]\n",
    " \n",
    "tools = load_tools([\"terminal\",\"wikipedia\", \"llm-math\" ], llm=llm)\n",
    "agent = initialize_agent(\n",
    "    tools,\n",
    "    llm,\n",
    "    agent=AgentType.ZERO_SHOT_REACT_DESCRIPTION,\n",
    ")\n",
    "\n",
    "agent.run(\n",
    "    \"现在是2024年。康拉德·阿登纳多少年前成为德国总理?\",\n",
    "    callbacks=callbacks,\n",
    ")\n",
    "agent.run(\"print 'Hello World' in the terminal\", callbacks=callbacks)\n"
   ]
  },
  {
   "cell_type": "code",
   "execution_count": null,
   "id": "df53ea42",
   "metadata": {},
   "outputs": [],
   "source": []
  }
 ],
 "metadata": {
  "kernelspec": {
   "display_name": "book",
   "language": "python",
   "name": "book"
  },
  "language_info": {
   "codemirror_mode": {
    "name": "ipython",
    "version": 3
   },
   "file_extension": ".py",
   "mimetype": "text/x-python",
   "name": "python",
   "nbconvert_exporter": "python",
   "pygments_lexer": "ipython3",
   "version": "3.11.5"
  }
 },
 "nbformat": 4,
 "nbformat_minor": 5
}
